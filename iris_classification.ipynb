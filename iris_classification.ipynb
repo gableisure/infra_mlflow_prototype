{
  "nbformat": 4,
  "nbformat_minor": 0,
  "metadata": {
    "colab": {
      "provenance": []
    },
    "kernelspec": {
      "name": "python3",
      "display_name": "Python 3"
    },
    "language_info": {
      "name": "python"
    }
  },
  "cells": [
    {
      "cell_type": "code",
      "execution_count": null,
      "metadata": {
        "id": "OB4TlqFkWhUf"
      },
      "outputs": [],
      "source": [
        "import warnings\n",
        "import pandas as pd\n",
        "from sklearn import datasets\n",
        "from sklearn.ensemble import RandomForestClassifier\n",
        "import mlflow\n",
        "import mlflow.sklearn\n",
        "from mlflow.tracking import MlflowClient\n",
        "from sklearn.metrics import roc_auc_score, accuracy_score\n",
        "from sklearn.model_selection import train_test_split\n",
        "\n",
        "if __name__ == '__main__':\n",
        "    warnings.filterwarnings('ignore')\n",
        "    iris = datasets.load_iris()\n",
        "    iris_df = pd.DataFrame(iris.data, columns=iris.feature_names)\n",
        "    y = iris.target\n",
        "    iris_df['target'] = y\n",
        "    train_df, test_df = train_test_split(iris_df, test_size=0.3, random_state=42, stratify=iris_df[\"target\"])\n",
        "    X_train = train_df[[\"sepal length (cm)\", \"sepal width (cm)\", \"petal length (cm)\", \"petal width (cm)\"]]\n",
        "    y_train = train_df[\"target\"]\n",
        "    X_test = test_df[[\"sepal length (cm)\", \"sepal width (cm)\", \"petal length (cm)\", \"petal width (cm)\"]]\n",
        "    y_test = test_df[\"target\"]\n",
        "\n",
        "    n_estimators = 100\n",
        "    max_depth = 10\n",
        "    random_state = 0\n",
        "\n",
        "    ''' remote_server_uri = \"http://172.16.20.126:5002\"\n",
        "    mlflow.set_tracking_uri(remote_server_uri) '''\n",
        "\n",
        "    with mlflow.start_run(run_name=\"iris_teste_http\") as run:\n",
        "        mlflow.log_param(\"max_depth\", max_depth)\n",
        "        mlflow.log_param(\"random_state\", random_state)\n",
        "        mlflow.log_param(\"n_estimators\", n_estimators)\n",
        "        clf = RandomForestClassifier(n_estimators=n_estimators, max_depth=max_depth, random_state=random_state)\n",
        "        clf.fit(X_train, y_train)\n",
        "        iris_predict_y = clf.predict(X_test)\n",
        "        roc_auc_score_val = roc_auc_score(y_test, clf.predict_proba(X_test), multi_class='ovr')\n",
        "        mlflow.log_metric(\"test roc_auc_score\", roc_auc_score_val)\n",
        "        accuracy_score = accuracy_score(y_test, iris_predict_y)\n",
        "        mlflow.log_metric(\"test accuracy_score\", accuracy_score)\n",
        "        mlflow.sklearn.log_model(clf, artifact_path=\"model\")\n",
        "\n",
        "    # Registra o modelo\n",
        "    run_id = run.info.run_id\n",
        "    model_uri = \"runs:/{}/sklearn-model\".format(run_id)\n",
        "    mv = mlflow.register_model(model_uri, \"RandomForestIrisModel\")"
      ]
    }
  ]
}